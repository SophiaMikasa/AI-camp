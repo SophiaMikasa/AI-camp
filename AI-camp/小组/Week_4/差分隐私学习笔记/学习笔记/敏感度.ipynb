{
 "cells": [
  {
   "cell_type": "markdown",
   "source": [
    "## 敏感度\n",
    "GS(f) = max|f(x)-f‘(x)|\n",
    "其中d(x,x`)表示两个数据集x和x1之间的距离（Distance）。如果两个数据集之间的距离小于等于1，我们称这两个数据集是临近集（Neighbor）。数据集的距离定义会对隐私定义带来很大的影响。我们稍后将讨论如何度量数据集之间的距离。"
   ],
   "metadata": {
    "collapsed": false
   },
   "id": "cbddfca100f6ed06"
  },
  {
   "cell_type": "markdown",
   "source": [
    "#### 距离\n",
    "通常会把距离定义为有多少行数据值不相同。\n",
    "添加或删除一行数据可以生成相邻数据集；修改一行数据则生成距离为2的数据集。"
   ],
   "metadata": {
    "collapsed": false
   },
   "id": "5e579a74f3b27be9"
  },
  {
   "cell_type": "markdown",
   "source": [
    "#### 计算敏感度\n",
    "f(x) = x的全局敏感度是1，因为x变化1，f(x)变化为1\n",
    "f(x) = x + x的全局敏感度是2，因为x变化1，f(x)变化为2\n",
    "f(x) = 5 * x的全局敏感度是5，因为x变化1，f(x)变化为5\n",
    "f(x) = x * x的全局敏感度是无界的，因为f(x)的变化取决于x的值\n",
    "\n",
    "对于将数据集映射到实数的函数，我们都采用类似的分析方法。我们下面将考虑3个常见的数据库聚合问询函数:计数问询、求和问询、均值问询。"
   ],
   "metadata": {
    "collapsed": false
   },
   "id": "46da1b8ff4990286"
  },
  {
   "cell_type": "code",
   "execution_count": 1,
   "id": "initial_id",
   "metadata": {
    "collapsed": true,
    "ExecuteTime": {
     "end_time": "2024-04-11T09:35:05.478007Z",
     "start_time": "2024-04-11T09:35:00.501026Z"
    }
   },
   "outputs": [],
   "source": [
    "import pandas as pd\n",
    "import numpy as np\n",
    "import matplotlib.pyplot as plt\n",
    "# plt.style.use('seaborn-whitegrid')\n",
    "plt.style.use('fivethirtyeight')\n",
    "\n",
    "adult = pd.read_csv(\"adult_with_pii.csv\")"
   ]
  },
  {
   "cell_type": "markdown",
   "source": [
    "### 计数问询\n",
    "计数问询（数据库SQL中的COUNT算子）计算数据集中满足特定属性的行数。一般来说，计数问询的敏感度总等于1。这是因为向数据集中添加一行数据最多会使问询的输出结果增加1，即当新增行满足特定属性时，计数结果加1。反之，当新增行不满足特定属性时，计数结果不变（删除行可能使计数结果减1）。"
   ],
   "metadata": {
    "collapsed": false
   },
   "id": "8e749cc1454b9278"
  },
  {
   "cell_type": "markdown",
   "source": [
    "例子：”数据集中有多少人？”（敏感度：1，计算总行数）"
   ],
   "metadata": {
    "collapsed": false
   },
   "id": "e0a37b8c70315471"
  },
  {
   "cell_type": "code",
   "outputs": [
    {
     "data": {
      "text/plain": "32563"
     },
     "execution_count": 2,
     "metadata": {},
     "output_type": "execute_result"
    }
   ],
   "source": [
    "adult.shape[0]"
   ],
   "metadata": {
    "collapsed": false,
    "ExecuteTime": {
     "end_time": "2024-04-11T09:35:05.504936Z",
     "start_time": "2024-04-11T09:35:05.482335Z"
    }
   },
   "id": "9a1af6e2b047cd7",
   "execution_count": 2
  },
  {
   "cell_type": "markdown",
   "source": [
    "例子：”受教育年数超过10年的有多少人”（敏感度：1，根据属性计算行数）"
   ],
   "metadata": {
    "collapsed": false
   },
   "id": "e9933b4adb9adec7"
  },
  {
   "cell_type": "code",
   "outputs": [
    {
     "data": {
      "text/plain": "10517"
     },
     "execution_count": 3,
     "metadata": {},
     "output_type": "execute_result"
    }
   ],
   "source": [
    "adult[adult['Education-Num'] > 10].shape[0]"
   ],
   "metadata": {
    "collapsed": false,
    "ExecuteTime": {
     "end_time": "2024-04-11T09:35:05.578762Z",
     "start_time": "2024-04-11T09:35:05.506920Z"
    }
   },
   "id": "1af798a3921cca06",
   "execution_count": 3
  },
  {
   "cell_type": "markdown",
   "source": [
    "例子：”受教育年数小于或等于10年的有多少人？”（敏感度：1，根据属性计算行数）"
   ],
   "metadata": {
    "collapsed": false
   },
   "id": "d3957084ca4c0742"
  },
  {
   "cell_type": "code",
   "outputs": [
    {
     "data": {
      "text/plain": "22046"
     },
     "execution_count": 4,
     "metadata": {},
     "output_type": "execute_result"
    }
   ],
   "source": [
    "adult[adult['Education-Num'] <= 10].shape[0]"
   ],
   "metadata": {
    "collapsed": false,
    "ExecuteTime": {
     "end_time": "2024-04-11T09:35:05.679259Z",
     "start_time": "2024-04-11T09:35:05.594809Z"
    }
   },
   "id": "160e988128b97515",
   "execution_count": 4
  },
  {
   "cell_type": "markdown",
   "source": [
    "例子：”名字叫Joe Near的有多少人？”（敏感度：1，根据属性计算行数）"
   ],
   "metadata": {
    "collapsed": false
   },
   "id": "618834bf8c43b097"
  },
  {
   "cell_type": "code",
   "outputs": [
    {
     "data": {
      "text/plain": "0"
     },
     "execution_count": 5,
     "metadata": {},
     "output_type": "execute_result"
    }
   ],
   "source": [
    "adult[adult['Name'] == 'Joe Near'].shape[0]"
   ],
   "metadata": {
    "collapsed": false,
    "ExecuteTime": {
     "end_time": "2024-04-11T09:35:05.853481Z",
     "start_time": "2024-04-11T09:35:05.696215Z"
    }
   },
   "id": "2efed6bb4e6aeb4c",
   "execution_count": 5
  },
  {
   "cell_type": "markdown",
   "source": [
    "### 求和问询\n",
    "\n",
    "求和问询（数据库SQL中的SUM算子）计算数据集行中的属性值（Attribute Values） 总和。\n",
    "**我们需要确定在数据集中对单个个体数据进行更改时，求和函数 ( f ) 输出结果的最大变化量。对于求和查询来说，当我们向数据集中添加或移除一个数据点时，输出结果的最大变化量就是单个数据点的数值大小。简单来说，求和查询的敏感度就是数据集中单个数据点的数值大小。**\n",
    "\n",
    "tip:一般来说，当待求和的属性值不存在上界和下界时，我们称求和问询具有无界敏感度。当存在上下界时，求和问询的敏感度等于上下界的差。在下一节，我们将介绍裁剪（Clipping）技术。此技术用于在边界不存在时强制划定边界，以便将无界敏感度的求和问询转化为有界敏感度的问询。"
   ],
   "metadata": {
    "collapsed": false
   },
   "id": "20f6d00a628e5959"
  },
  {
   "cell_type": "markdown",
   "source": [
    "例子：”受教育年数超过10年的人，其年龄总和是多少？”"
   ],
   "metadata": {
    "collapsed": false
   },
   "id": "ae5a5e9f91df0a3f"
  },
  {
   "cell_type": "code",
   "outputs": [
    {
     "data": {
      "text/plain": "441431"
     },
     "execution_count": 6,
     "metadata": {},
     "output_type": "execute_result"
    }
   ],
   "source": [
    "adult[adult['Education-Num'] > 10]['Age'].sum()"
   ],
   "metadata": {
    "collapsed": false,
    "ExecuteTime": {
     "end_time": "2024-04-11T09:35:05.894835Z",
     "start_time": "2024-04-11T09:35:05.872678Z"
    }
   },
   "id": "6f64a26e047a65df",
   "execution_count": 6
  },
  {
   "cell_type": "markdown",
   "source": [
    "### 均值问询\n",
    "\n",
    "均值问询（数据库SQL中的AVG算子）计算指定列属性值的平均值。\n",
    "**简单来说，均值查询的敏感度是单个数据点的数值除以数据集大小。这意味着敏感度受数据集中数据点数量的影响，因为在计算均值时，数据集中数据点数量的变化会影响输出结果的变化程度**"
   ],
   "metadata": {
    "collapsed": false
   },
   "id": "a2ad0ffd9cb5531d"
  },
  {
   "cell_type": "markdown",
   "source": [
    "例子：”受教育年数超过10年的人，其平均年龄是多少？”"
   ],
   "metadata": {
    "collapsed": false
   },
   "id": "aa1d5f8a47a5136a"
  },
  {
   "cell_type": "code",
   "outputs": [
    {
     "data": {
      "text/plain": "41.973091185699346"
     },
     "execution_count": 7,
     "metadata": {},
     "output_type": "execute_result"
    }
   ],
   "source": [
    "adult[adult['Education-Num'] > 10]['Age'].mean()"
   ],
   "metadata": {
    "collapsed": false,
    "ExecuteTime": {
     "end_time": "2024-04-11T09:35:05.933103Z",
     "start_time": "2024-04-11T09:35:05.899670Z"
    }
   },
   "id": "f9d9e1dc39b2d409",
   "execution_count": 7
  },
  {
   "cell_type": "markdown",
   "source": [
    "#### 求和问询和计数问询的敏感度都可以根据前面提到的方法计算得到。因此，我们可以分别计算两个问询的噪声回复（如使用拉普拉斯机制）。对两个噪声回复做除法，即可得到差分隐私均值。我们可以应用串行组合性计算两个问询的总隐私消耗量。"
   ],
   "metadata": {
    "collapsed": false
   },
   "id": "8fe315c998c8af20"
  },
  {
   "cell_type": "markdown",
   "source": [
    "### 裁剪\n",
    "\n",
    "差分隐私的拉普拉斯机制的无法直接应用于无界敏感度问询。幸运的是，我们通常可以利用裁剪（Clip）技术将此类问询转换为等价的有界敏感度问询。\n",
    "\n",
    "裁剪技术的基本思想是，强制设置属性值的上界和下界。例如，125岁以上的年龄可以被”裁剪”到恰好125岁。经过裁剪后，所有年龄都肯定不超过125岁。因此，对裁剪数据执行求和问询的敏感度等于上下界的差：\n",
    "上界下界。例如，以下问询的敏感度为125：\n",
    "\n",
    "此外，还需在裁剪造成的信息量损失和满足差分隐私所需的噪声间进行权衡。裁剪边界的上界和下界越接近，敏感度越低，差分隐私所需的噪声就越小。然而，过分裁剪经常会从数据中移除很多信息。这些信息的移除可能给准确度带来损失，超过更小敏感度改善噪声带来的准确度提升效果。\n",
    "\n",
    "一般来说，要将裁剪边界设置为（尽可能）100%的保留数据集的所有信息。但必须承认，某些领域（例如后续将学习的图问询）很难做到这一点。"
   ],
   "metadata": {
    "collapsed": false
   },
   "id": "98507e4c530c508b"
  },
  {
   "cell_type": "code",
   "outputs": [
    {
     "data": {
      "text/plain": "1360238"
     },
     "execution_count": 8,
     "metadata": {},
     "output_type": "execute_result"
    }
   ],
   "source": [
    "adult['Age'].clip(lower=0, upper=125).sum()"
   ],
   "metadata": {
    "collapsed": false,
    "ExecuteTime": {
     "end_time": "2024-04-11T09:35:06.015302Z",
     "start_time": "2024-04-11T09:35:05.936233Z"
    }
   },
   "id": "fa862f1e08a4552e",
   "execution_count": 8
  },
  {
   "cell_type": "code",
   "outputs": [
    {
     "data": {
      "text/plain": "Text(0, 0.5, 'y')"
     },
     "execution_count": 9,
     "metadata": {},
     "output_type": "execute_result"
    },
    {
     "data": {
      "text/plain": "<Figure size 640x480 with 1 Axes>",
      "image/png": "[encoded data removed]"
     },
     "metadata": {},
     "output_type": "display_data"
    }
   ],
   "source": [
    "def laplace_mech(v, sensitivity, epsilon):\n",
    "    return v + np.random.laplace(loc=0, scale=sensitivity/epsilon)\n",
    "\n",
    "epsilon_i = .01\n",
    "plt.plot([laplace_mech(adult['Age'].clip(lower=0, upper=i).sum(), i, epsilon_i) for i in range(100)])\n",
    "plt.xlabel('x')\n",
    "plt.ylabel('y')"
   ],
   "metadata": {
    "collapsed": false,
    "ExecuteTime": {
     "end_time": "2024-04-11T09:35:06.896772Z",
     "start_time": "2024-04-11T09:35:06.020321Z"
    }
   },
   "id": "c8f2fb4344459ecc",
   "execution_count": 9
  },
  {
   "cell_type": "markdown",
   "source": [
    "我们进行了100次ε=0.01的问询。因此，根据串行组合性，构建上图的总隐私消耗量为ε=1。显然，问询结果在upper = 80附近趋于平稳，把80作为裁剪边界是个不错的选择。"
   ],
   "metadata": {
    "collapsed": false
   },
   "id": "74fc25116d594c92"
  },
  {
   "cell_type": "code",
   "outputs": [
    {
     "data": {
      "text/plain": "<Figure size 640x480 with 1 Axes>",
      "image/png": "[encoded data removed]"
     },
     "metadata": {},
     "output_type": "display_data"
    }
   ],
   "source": [
    "xs = [2**i for i in range(15)]\n",
    "plt.plot(xs, [laplace_mech(adult['Age'].clip(lower=0, upper=i).sum(), i, epsilon_i) for i in xs])\n",
    "plt.xscale('log')\n",
    "plt.xlabel('x')\n",
    "plt.ylabel('y');"
   ],
   "metadata": {
    "collapsed": false,
    "ExecuteTime": {
     "end_time": "2024-04-11T09:35:09.328859Z",
     "start_time": "2024-04-11T09:35:06.905258Z"
    }
   },
   "id": "49e209c936caf023",
   "execution_count": 10
  },
  {
   "cell_type": "code",
   "outputs": [],
   "source": [],
   "metadata": {
    "collapsed": false,
    "ExecuteTime": {
     "end_time": "2024-04-11T09:35:09.338089Z",
     "start_time": "2024-04-11T09:35:09.330962Z"
    }
   },
   "id": "daceaae951893a25",
   "execution_count": 10
  }
 ],
 "metadata": {
  "kernelspec": {
   "display_name": "Python 3",
   "language": "python",
   "name": "python3"
  },
  "language_info": {
   "codemirror_mode": {
    "name": "ipython",
    "version": 2
   },
   "file_extension": ".py",
   "mimetype": "text/x-python",
   "name": "python",
   "nbconvert_exporter": "python",
   "pygments_lexer": "ipython2",
   "version": "2.7.6"
  }
 },
 "nbformat": 4,
 "nbformat_minor": 5
}
