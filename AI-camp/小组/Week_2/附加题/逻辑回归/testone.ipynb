{
 "cells": [
  {
   "cell_type": "code",
   "execution_count": 1,
   "id": "initial_id",
   "metadata": {
    "collapsed": true,
    "ExecuteTime": {
     "end_time": "2024-03-27T15:11:32.426928Z",
     "start_time": "2024-03-27T15:11:30.997543Z"
    }
   },
   "outputs": [],
   "source": [
    "import numpy as np \n",
    "import matplotlib.pyplot as plt\n",
    "import pandas as pd\n",
    "%matplotlib inline"
   ]
  },
  {
   "cell_type": "code",
   "outputs": [],
   "source": [
    "data = pd.read_csv(\"LogiReg_data.txt\",header=None,names = ['Exam 1', 'Exam 2', 'Admitted'])\n",
    "data.head()\n",
    "X = data.iloc[:,:-1].values\n",
    "y = data.iloc[:,-1].values\n",
    "X = (X - X.mean())/X.std()\n",
    "# X = (X - X.min())/(X.max() - X.min())"
   ],
   "metadata": {
    "collapsed": false,
    "ExecuteTime": {
     "end_time": "2024-03-27T15:11:32.449189Z",
     "start_time": "2024-03-27T15:11:32.430147Z"
    }
   },
   "id": "a7cc47fd2ec65391",
   "execution_count": 2
  },
  {
   "cell_type": "code",
   "outputs": [],
   "source": [
    "# positive = data[data['Admitted'] == 1]\n",
    "# negative = data[data['Admitted'] == 0]\n",
    "# \n",
    "# fig, ax = plt.subplots(figsize=(12, 8))\n",
    "# ax.scatter(positive['Exam 1'], positive['Exam 2'], s=30, c='b', marker='o', label='Admitted')\n",
    "# ax.scatter(negative['Exam 1'], negative['Exam 2'], s=30, c='r', marker='x', label='Not Admitted')\n",
    "# ax.legend()\n",
    "# ax.set_xlabel('Exam 1 Score')\n",
    "# ax.set_ylabel('Exam 2 Score')"
   ],
   "metadata": {
    "collapsed": false,
    "ExecuteTime": {
     "end_time": "2024-03-27T15:11:32.459650Z",
     "start_time": "2024-03-27T15:11:32.451301Z"
    }
   },
   "id": "8c510b0467038744",
   "execution_count": 3
  },
  {
   "cell_type": "code",
   "outputs": [],
   "source": [
    "import MyLogisticRegression as mlr\n",
    "# nums = np.arange(-10, 10, step=1)\n",
    "# fig, ax = plt.subplots(figsize=(12, 8))\n",
    "# ax.plot(nums, mlr.LogisticRegression.sigmoid(nums))"
   ],
   "metadata": {
    "collapsed": false,
    "ExecuteTime": {
     "end_time": "2024-03-27T15:11:32.478133Z",
     "start_time": "2024-03-27T15:11:32.461744Z"
    }
   },
   "id": "c8d05a5046d3b490",
   "execution_count": 4
  },
  {
   "cell_type": "code",
   "outputs": [],
   "source": [
    "from sklearn.model_selection import train_test_split\n",
    "\n",
    "\n",
    "X_train, X_test, y_train, y_test = train_test_split(X, y, test_size=0.2)\n",
    "model = mlr.LogisticRegression()"
   ],
   "metadata": {
    "collapsed": false,
    "ExecuteTime": {
     "end_time": "2024-03-27T15:12:14.636943Z",
     "start_time": "2024-03-27T15:12:14.630273Z"
    }
   },
   "id": "6c1d75344a125e48",
   "execution_count": 14
  },
  {
   "cell_type": "code",
   "outputs": [],
   "source": [
    "model.fit(X_train, y_train)\n",
    "y_pred = model.predict(X_test)"
   ],
   "metadata": {
    "collapsed": false,
    "ExecuteTime": {
     "end_time": "2024-03-27T15:12:14.828725Z",
     "start_time": "2024-03-27T15:12:14.789906Z"
    }
   },
   "id": "fd71a7c9cc98a5c7",
   "execution_count": 15
  },
  {
   "cell_type": "code",
   "outputs": [],
   "source": [
    "from sklearn.metrics import accuracy_score, precision_score, recall_score, f1_score, roc_auc_score, confusion_matrix\n",
    "\n",
    "accuracy = accuracy_score(y_test, y_pred)\n",
    "precision = precision_score(y_test, y_pred)\n",
    "recall = recall_score(y_test, y_pred)\n",
    "f1 = f1_score(y_test, y_pred)\n",
    "roc_auc = roc_auc_score(y_test, y_pred)\n",
    "conf_matrix = confusion_matrix(y_test, y_pred)"
   ],
   "metadata": {
    "collapsed": false,
    "ExecuteTime": {
     "end_time": "2024-03-27T15:12:14.965707Z",
     "start_time": "2024-03-27T15:12:14.940520Z"
    }
   },
   "id": "c4b2871f85842308",
   "execution_count": 16
  },
  {
   "cell_type": "code",
   "outputs": [
    {
     "name": "stdout",
     "output_type": "stream",
     "text": [
      "Accuracy: 0.85\n",
      "Precision: 0.9090909090909091\n",
      "Recall: 0.8333333333333334\n",
      "F1 Score: 0.8695652173913043\n",
      "ROC AUC Score: 0.8541666666666667\n",
      "Confusion Matrix:\n",
      " [[ 7  1]\n",
      " [ 2 10]]\n"
     ]
    }
   ],
   "source": [
    "print(\"Accuracy:\", accuracy)\n",
    "print(\"Precision:\", precision)\n",
    "print(\"Recall:\", recall)\n",
    "print(\"F1 Score:\", f1)\n",
    "print(\"ROC AUC Score:\", roc_auc)\n",
    "print(\"Confusion Matrix:\\n\", conf_matrix)"
   ],
   "metadata": {
    "collapsed": false,
    "ExecuteTime": {
     "end_time": "2024-03-27T15:12:15.106894Z",
     "start_time": "2024-03-27T15:12:15.097493Z"
    }
   },
   "id": "c100c24b80f19a6d",
   "execution_count": 17
  }
 ],
 "metadata": {
  "kernelspec": {
   "display_name": "Python 3",
   "language": "python",
   "name": "python3"
  },
  "language_info": {
   "codemirror_mode": {
    "name": "ipython",
    "version": 2
   },
   "file_extension": ".py",
   "mimetype": "text/x-python",
   "name": "python",
   "nbconvert_exporter": "python",
   "pygments_lexer": "ipython2",
   "version": "2.7.6"
  }
 },
 "nbformat": 4,
 "nbformat_minor": 5
}
