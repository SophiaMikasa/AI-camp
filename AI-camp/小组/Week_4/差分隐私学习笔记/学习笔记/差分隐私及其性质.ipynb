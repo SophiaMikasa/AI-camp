{
 "cells": [
  {
   "cell_type": "code",
   "execution_count": 1,
   "id": "initial_id",
   "metadata": {
    "collapsed": true,
    "ExecuteTime": {
     "end_time": "2024-04-11T09:35:03.916671Z",
     "start_time": "2024-04-11T09:35:01.272385Z"
    }
   },
   "outputs": [
    {
     "data": {
      "text/plain": "        DOB    Zip  Workclass  Education  Education-Num Marital Status  \\\n0  9/7/1967  64152  State-gov  Bachelors             13  Never-married   \n\n     Occupation   Relationship   Race   Sex  Hours per week        Country  \\\n0  Adm-clerical  Not-in-family  White  Male              40  United-States   \n\n  Target  Age  Capital Gain  Capital Loss  \n0  <=50K   56          2174             0  ",
      "text/html": "<div>\n<style scoped>\n    .dataframe tbody tr th:only-of-type {\n        vertical-align: middle;\n    }\n\n    .dataframe tbody tr th {\n        vertical-align: top;\n    }\n\n    .dataframe thead th {\n        text-align: right;\n    }\n</style>\n<table border=\"1\" class=\"dataframe\">\n  <thead>\n    <tr style=\"text-align: right;\">\n      <th></th>\n      <th>DOB</th>\n      <th>Zip</th>\n      <th>Workclass</th>\n      <th>Education</th>\n      <th>Education-Num</th>\n      <th>Marital Status</th>\n      <th>Occupation</th>\n      <th>Relationship</th>\n      <th>Race</th>\n      <th>Sex</th>\n      <th>Hours per week</th>\n      <th>Country</th>\n      <th>Target</th>\n      <th>Age</th>\n      <th>Capital Gain</th>\n      <th>Capital Loss</th>\n    </tr>\n  </thead>\n  <tbody>\n    <tr>\n      <th>0</th>\n      <td>9/7/1967</td>\n      <td>64152</td>\n      <td>State-gov</td>\n      <td>Bachelors</td>\n      <td>13</td>\n      <td>Never-married</td>\n      <td>Adm-clerical</td>\n      <td>Not-in-family</td>\n      <td>White</td>\n      <td>Male</td>\n      <td>40</td>\n      <td>United-States</td>\n      <td>&lt;=50K</td>\n      <td>56</td>\n      <td>2174</td>\n      <td>0</td>\n    </tr>\n  </tbody>\n</table>\n</div>"
     },
     "execution_count": 1,
     "metadata": {},
     "output_type": "execute_result"
    }
   ],
   "source": [
    "import numpy as np\n",
    "import pandas as pd\n",
    "\n",
    "# 去标识\n",
    "adult = pd.read_csv('adult_with_pii.csv')\n",
    "adult_data = adult.copy().drop(columns=['Name', 'SSN'])\n",
    "adult_pii = adult[['Name', 'SSN', 'DOB', 'Zip']]\n",
    "adult_data.head(1)"
   ]
  },
  {
   "cell_type": "markdown",
   "source": [
    "## K-匿名性\n",
    "把数据集按照数据集各个列中的特定子集分组，即按照准标识（Quasi-Identifier）分组，使每个分组中的个体都拥有相同的准标识。如果数据集中的每个个体所属分组的大小都至少为则我们称此数据集满足k-匿名性"
   ],
   "metadata": {
    "collapsed": false
   },
   "id": "4caf452db88af503"
  },
  {
   "cell_type": "code",
   "outputs": [
    {
     "data": {
      "text/plain": "   age  preTestScore  postTestScore\n0   42             4             25\n1   52            24             94\n2   36            31             57\n3   24             2             62\n4   73             3             70",
      "text/html": "<div>\n<style scoped>\n    .dataframe tbody tr th:only-of-type {\n        vertical-align: middle;\n    }\n\n    .dataframe tbody tr th {\n        vertical-align: top;\n    }\n\n    .dataframe thead th {\n        text-align: right;\n    }\n</style>\n<table border=\"1\" class=\"dataframe\">\n  <thead>\n    <tr style=\"text-align: right;\">\n      <th></th>\n      <th>age</th>\n      <th>preTestScore</th>\n      <th>postTestScore</th>\n    </tr>\n  </thead>\n  <tbody>\n    <tr>\n      <th>0</th>\n      <td>42</td>\n      <td>4</td>\n      <td>25</td>\n    </tr>\n    <tr>\n      <th>1</th>\n      <td>52</td>\n      <td>24</td>\n      <td>94</td>\n    </tr>\n    <tr>\n      <th>2</th>\n      <td>36</td>\n      <td>31</td>\n      <td>57</td>\n    </tr>\n    <tr>\n      <th>3</th>\n      <td>24</td>\n      <td>2</td>\n      <td>62</td>\n    </tr>\n    <tr>\n      <th>4</th>\n      <td>73</td>\n      <td>3</td>\n      <td>70</td>\n    </tr>\n  </tbody>\n</table>\n</div>"
     },
     "execution_count": 2,
     "metadata": {},
     "output_type": "execute_result"
    }
   ],
   "source": [
    "raw_data = {\n",
    "    'first_name': ['Jason', 'Molly', 'Tina', 'Jake', 'Amy'], \n",
    "    'last_name': ['Miller', 'Jacobson', 'Ali', 'Milner', 'Cooze'], \n",
    "    'age': [42, 52, 36, 24, 73], \n",
    "    'preTestScore': [4, 24, 31, 2, 3],\n",
    "    'postTestScore': [25, 94, 57, 62, 70]}\n",
    "#df = pd.DataFrame(raw_data, columns = ['first_name', 'last_name', 'age', 'preTestScore', 'postTestScore'])\n",
    "df = pd.DataFrame(raw_data, columns = ['age', 'preTestScore', 'postTestScore'])\n",
    "df"
   ],
   "metadata": {
    "collapsed": false,
    "ExecuteTime": {
     "end_time": "2024-04-11T09:35:03.985376Z",
     "start_time": "2024-04-11T09:35:03.922653Z"
    }
   },
   "id": "15ce04dbc7f3338f",
   "execution_count": 2
  },
  {
   "cell_type": "code",
   "outputs": [],
   "source": [
    "def isKAnonymized(df, k):\n",
    "    for index, row in df.iterrows():\n",
    "        query = ' & '.join([f'{col} == {row[col]}' for col in df.columns])\n",
    "        rows = df.query(query)\n",
    "        if rows.shape[0] < k:\n",
    "            return False\n",
    "    return True"
   ],
   "metadata": {
    "collapsed": false,
    "ExecuteTime": {
     "end_time": "2024-04-11T09:35:04.010496Z",
     "start_time": "2024-04-11T09:35:03.992815Z"
    }
   },
   "id": "b16527bee889086",
   "execution_count": 3
  },
  {
   "cell_type": "code",
   "outputs": [
    {
     "data": {
      "text/plain": "True"
     },
     "execution_count": 4,
     "metadata": {},
     "output_type": "execute_result"
    }
   ],
   "source": [
    "isKAnonymized(df, 1)"
   ],
   "metadata": {
    "collapsed": false,
    "ExecuteTime": {
     "end_time": "2024-04-11T09:35:04.095197Z",
     "start_time": "2024-04-11T09:35:04.015753Z"
    }
   },
   "id": "ba0c0c2e712f8c3",
   "execution_count": 4
  },
  {
   "cell_type": "markdown",
   "source": [
    "## 泛化数据以满足k-匿名性"
   ],
   "metadata": {
    "collapsed": false
   },
   "id": "61c7a1c2919c1225"
  },
  {
   "cell_type": "code",
   "outputs": [],
   "source": [
    "def generalize(df, depths):\n",
    "    return df.apply(lambda x: x.apply(lambda y: int(int(y/(10**depths[x.name]))*(10**depths[x.name]))))"
   ],
   "metadata": {
    "collapsed": false,
    "ExecuteTime": {
     "end_time": "2024-04-11T09:35:04.123057Z",
     "start_time": "2024-04-11T09:35:04.108892Z"
    }
   },
   "id": "a4b44e75bfc13b26",
   "execution_count": 5
  },
  {
   "cell_type": "markdown",
   "source": [
    "现在，我们可以对示例数据帧进行泛化处理了。首先，我们尝试对每一列数据进行”一层”泛化，即四舍五入到十位。"
   ],
   "metadata": {
    "collapsed": false
   },
   "id": "19d8449c69ac0e9a"
  },
  {
   "cell_type": "code",
   "outputs": [
    {
     "data": {
      "text/plain": "   age  preTestScore  postTestScore\n0   40             0             20\n1   50            20             90\n2   30            30             50\n3   20             0             60\n4   70             0             70",
      "text/html": "<div>\n<style scoped>\n    .dataframe tbody tr th:only-of-type {\n        vertical-align: middle;\n    }\n\n    .dataframe tbody tr th {\n        vertical-align: top;\n    }\n\n    .dataframe thead th {\n        text-align: right;\n    }\n</style>\n<table border=\"1\" class=\"dataframe\">\n  <thead>\n    <tr style=\"text-align: right;\">\n      <th></th>\n      <th>age</th>\n      <th>preTestScore</th>\n      <th>postTestScore</th>\n    </tr>\n  </thead>\n  <tbody>\n    <tr>\n      <th>0</th>\n      <td>40</td>\n      <td>0</td>\n      <td>20</td>\n    </tr>\n    <tr>\n      <th>1</th>\n      <td>50</td>\n      <td>20</td>\n      <td>90</td>\n    </tr>\n    <tr>\n      <th>2</th>\n      <td>30</td>\n      <td>30</td>\n      <td>50</td>\n    </tr>\n    <tr>\n      <th>3</th>\n      <td>20</td>\n      <td>0</td>\n      <td>60</td>\n    </tr>\n    <tr>\n      <th>4</th>\n      <td>70</td>\n      <td>0</td>\n      <td>70</td>\n    </tr>\n  </tbody>\n</table>\n</div>"
     },
     "execution_count": 6,
     "metadata": {},
     "output_type": "execute_result"
    }
   ],
   "source": [
    "depths = {\n",
    "    'age': 1,\n",
    "    'preTestScore': 1,\n",
    "    'postTestScore': 1\n",
    "}\n",
    "df2 = generalize(df, depths)\n",
    "df2"
   ],
   "metadata": {
    "collapsed": false,
    "ExecuteTime": {
     "end_time": "2024-04-11T09:35:04.178631Z",
     "start_time": "2024-04-11T09:35:04.127231Z"
    }
   },
   "id": "5ede66040d6f1717",
   "execution_count": 6
  },
  {
   "cell_type": "markdown",
   "source": [
    "注意，即使经过了泛化，我们的示例数据仍然无法满足k=2下的k-匿名性。"
   ],
   "metadata": {
    "collapsed": false
   },
   "id": "4bfca31c2d7d55a3"
  },
  {
   "cell_type": "code",
   "outputs": [
    {
     "data": {
      "text/plain": "False"
     },
     "execution_count": 7,
     "metadata": {},
     "output_type": "execute_result"
    }
   ],
   "source": [
    "isKAnonymized(df2, 2)"
   ],
   "metadata": {
    "collapsed": false,
    "ExecuteTime": {
     "end_time": "2024-04-11T09:35:04.215634Z",
     "start_time": "2024-04-11T09:35:04.182209Z"
    }
   },
   "id": "897ee1b5facdeb6c",
   "execution_count": 7
  },
  {
   "cell_type": "markdown",
   "source": [
    "我们可以尝试对数据进一步泛化，但我们最终将会删除所有数据！"
   ],
   "metadata": {
    "collapsed": false
   },
   "id": "8572db1ed37c520"
  },
  {
   "cell_type": "code",
   "outputs": [
    {
     "data": {
      "text/plain": "   age  preTestScore  postTestScore\n0    0             0              0\n1    0             0              0\n2    0             0              0\n3    0             0              0\n4    0             0              0",
      "text/html": "<div>\n<style scoped>\n    .dataframe tbody tr th:only-of-type {\n        vertical-align: middle;\n    }\n\n    .dataframe tbody tr th {\n        vertical-align: top;\n    }\n\n    .dataframe thead th {\n        text-align: right;\n    }\n</style>\n<table border=\"1\" class=\"dataframe\">\n  <thead>\n    <tr style=\"text-align: right;\">\n      <th></th>\n      <th>age</th>\n      <th>preTestScore</th>\n      <th>postTestScore</th>\n    </tr>\n  </thead>\n  <tbody>\n    <tr>\n      <th>0</th>\n      <td>0</td>\n      <td>0</td>\n      <td>0</td>\n    </tr>\n    <tr>\n      <th>1</th>\n      <td>0</td>\n      <td>0</td>\n      <td>0</td>\n    </tr>\n    <tr>\n      <th>2</th>\n      <td>0</td>\n      <td>0</td>\n      <td>0</td>\n    </tr>\n    <tr>\n      <th>3</th>\n      <td>0</td>\n      <td>0</td>\n      <td>0</td>\n    </tr>\n    <tr>\n      <th>4</th>\n      <td>0</td>\n      <td>0</td>\n      <td>0</td>\n    </tr>\n  </tbody>\n</table>\n</div>"
     },
     "execution_count": 8,
     "metadata": {},
     "output_type": "execute_result"
    }
   ],
   "source": [
    "depths = {\n",
    "    'age': 2,\n",
    "    'preTestScore': 2,\n",
    "    'postTestScore': 2\n",
    "}\n",
    "generalize(df, depths)"
   ],
   "metadata": {
    "collapsed": false,
    "ExecuteTime": {
     "end_time": "2024-04-11T09:35:04.264349Z",
     "start_time": "2024-04-11T09:35:04.227629Z"
    }
   },
   "id": "e65689bf24bc54d6",
   "execution_count": 8
  },
  {
   "cell_type": "markdown",
   "source": [
    "### 引入更多的数据"
   ],
   "metadata": {
    "collapsed": false
   },
   "id": "1d2e62ece9e2e3bb"
  },
  {
   "cell_type": "code",
   "outputs": [
    {
     "data": {
      "text/plain": "True"
     },
     "execution_count": 9,
     "metadata": {},
     "output_type": "execute_result"
    }
   ],
   "source": [
    "df = adult_data[['Age', 'Education-Num']]\n",
    "df.columns = ['age', 'edu']\n",
    "isKAnonymized(df.head(100), 1)"
   ],
   "metadata": {
    "collapsed": false,
    "ExecuteTime": {
     "end_time": "2024-04-11T09:35:05.277138Z",
     "start_time": "2024-04-11T09:35:04.275440Z"
    }
   },
   "id": "cee3709fa8c2eb1b",
   "execution_count": 9
  },
  {
   "cell_type": "markdown",
   "source": [
    "此时泛化数据"
   ],
   "metadata": {
    "collapsed": false
   },
   "id": "9dfed99c236f7904"
  },
  {
   "cell_type": "code",
   "outputs": [
    {
     "data": {
      "text/plain": "False"
     },
     "execution_count": 10,
     "metadata": {},
     "output_type": "execute_result"
    }
   ],
   "source": [
    "# outliers are a real problem!\n",
    "depths = {\n",
    "    'age': 1,\n",
    "    'edu': 1\n",
    "}\n",
    "df2 = generalize(df.head(1000), depths)\n",
    "isKAnonymized(df2, 2)"
   ],
   "metadata": {
    "collapsed": false,
    "ExecuteTime": {
     "end_time": "2024-04-11T09:35:05.519376Z",
     "start_time": "2024-04-11T09:35:05.281384Z"
    }
   },
   "id": "41d2df041d4df12e",
   "execution_count": 10
  },
  {
   "cell_type": "code",
   "outputs": [
    {
     "data": {
      "text/plain": "<Axes: >"
     },
     "execution_count": 11,
     "metadata": {},
     "output_type": "execute_result"
    },
    {
     "data": {
      "text/plain": "<Figure size 640x480 with 1 Axes>",
      "image/png": "[encoded data removed]"
     },
     "metadata": {},
     "output_type": "display_data"
    }
   ],
   "source": [
    "df2['age'].hist()"
   ],
   "metadata": {
    "collapsed": false,
    "ExecuteTime": {
     "end_time": "2024-04-11T09:35:08.708059Z",
     "start_time": "2024-04-11T09:35:05.521541Z"
    }
   },
   "id": "a96057fd8dbdedb",
   "execution_count": 11
  },
  {
   "cell_type": "markdown",
   "source": [
    "## 移除异常值"
   ],
   "metadata": {
    "collapsed": false
   },
   "id": "64cefec50c660126"
  },
  {
   "cell_type": "code",
   "outputs": [
    {
     "data": {
      "text/plain": "False"
     },
     "execution_count": 12,
     "metadata": {},
     "output_type": "execute_result"
    }
   ],
   "source": [
    "# 裁剪异常值\n",
    "depths = {\n",
    "    'age': 1,\n",
    "    'edu': 1\n",
    "}\n",
    "dfp = df.clip(upper=np.array([60, 10000000000000]), axis='columns')\n",
    "df2 = generalize(dfp.head(500), depths)\n",
    "isKAnonymized(df2, 7)"
   ],
   "metadata": {
    "collapsed": false,
    "ExecuteTime": {
     "end_time": "2024-04-11T09:35:08.989064Z",
     "start_time": "2024-04-11T09:35:08.711882Z"
    }
   },
   "id": "457f349dfeadffb1",
   "execution_count": 12
  },
  {
   "cell_type": "markdown",
   "source": [
    "## 差分隐私\n",
    "\n",
    "tip:在差分隐私（Differential Privacy）中，隐私消耗量是一个指标，用于衡量在保护数据隐私的同时引入的噪声或者额外的隐私保护措施。它通常用 ε（epsilon）来表示。\n",
    "\n",
    "隐私消耗量ε的值越小，表示引入的噪声或者隐私保护程度越高，数据的隐私得到了更好的保护。而ε的值越大，表示隐私保护程度越低，因为引入的噪声较少，可能泄露更多关于原始数据的信息。\n",
    "\n",
    "在差分隐私中，ε可以用来衡量两个相邻数据集之间的差异，即对于任何一个可能的数据集，通过差分隐私机制发布的结果与在该数据集上发布结果之间的隐私损失。常见的情况是，当ε较小时，数据隐私受到更严格的保护，但数据分析的效用可能会受到影响；而当ε较大时，数据的可用性和分析效用可能会增加，但隐私保护程度会降低。\n",
    "\n",
    "因此，隐私消耗量是在差分隐私中平衡数据隐私保护和数据分析效用之间的重要参数。"
   ],
   "metadata": {
    "collapsed": false
   },
   "id": "3b098ffc68768dba"
  },
  {
   "cell_type": "code",
   "outputs": [
    {
     "data": {
      "text/plain": "         DOB    Zip         Workclass  Education  Education-Num  \\\n0   9/7/1967  64152         State-gov  Bachelors             13   \n1   6/7/1988  61523  Self-emp-not-inc  Bachelors             13   \n2   8/6/1991  95668           Private    HS-grad              9   \n3   4/6/2009  25503           Private       11th              7   \n4  9/16/1951  75387           Private  Bachelors             13   \n\n       Marital Status         Occupation   Relationship   Race     Sex  \\\n0       Never-married       Adm-clerical  Not-in-family  White    Male   \n1  Married-civ-spouse    Exec-managerial        Husband  White    Male   \n2            Divorced  Handlers-cleaners  Not-in-family  White    Male   \n3  Married-civ-spouse  Handlers-cleaners        Husband  Black    Male   \n4  Married-civ-spouse     Prof-specialty           Wife  Black  Female   \n\n   Hours per week        Country Target  Age  Capital Gain  Capital Loss  \n0              40  United-States  <=50K   56          2174             0  \n1              13  United-States  <=50K   35             0             0  \n2              40  United-States  <=50K   32             0             0  \n3              40  United-States  <=50K   14             0             0  \n4              40           Cuba  <=50K   72             0             0  ",
      "text/html": "<div>\n<style scoped>\n    .dataframe tbody tr th:only-of-type {\n        vertical-align: middle;\n    }\n\n    .dataframe tbody tr th {\n        vertical-align: top;\n    }\n\n    .dataframe thead th {\n        text-align: right;\n    }\n</style>\n<table border=\"1\" class=\"dataframe\">\n  <thead>\n    <tr style=\"text-align: right;\">\n      <th></th>\n      <th>DOB</th>\n      <th>Zip</th>\n      <th>Workclass</th>\n      <th>Education</th>\n      <th>Education-Num</th>\n      <th>Marital Status</th>\n      <th>Occupation</th>\n      <th>Relationship</th>\n      <th>Race</th>\n      <th>Sex</th>\n      <th>Hours per week</th>\n      <th>Country</th>\n      <th>Target</th>\n      <th>Age</th>\n      <th>Capital Gain</th>\n      <th>Capital Loss</th>\n    </tr>\n  </thead>\n  <tbody>\n    <tr>\n      <th>0</th>\n      <td>9/7/1967</td>\n      <td>64152</td>\n      <td>State-gov</td>\n      <td>Bachelors</td>\n      <td>13</td>\n      <td>Never-married</td>\n      <td>Adm-clerical</td>\n      <td>Not-in-family</td>\n      <td>White</td>\n      <td>Male</td>\n      <td>40</td>\n      <td>United-States</td>\n      <td>&lt;=50K</td>\n      <td>56</td>\n      <td>2174</td>\n      <td>0</td>\n    </tr>\n    <tr>\n      <th>1</th>\n      <td>6/7/1988</td>\n      <td>61523</td>\n      <td>Self-emp-not-inc</td>\n      <td>Bachelors</td>\n      <td>13</td>\n      <td>Married-civ-spouse</td>\n      <td>Exec-managerial</td>\n      <td>Husband</td>\n      <td>White</td>\n      <td>Male</td>\n      <td>13</td>\n      <td>United-States</td>\n      <td>&lt;=50K</td>\n      <td>35</td>\n      <td>0</td>\n      <td>0</td>\n    </tr>\n    <tr>\n      <th>2</th>\n      <td>8/6/1991</td>\n      <td>95668</td>\n      <td>Private</td>\n      <td>HS-grad</td>\n      <td>9</td>\n      <td>Divorced</td>\n      <td>Handlers-cleaners</td>\n      <td>Not-in-family</td>\n      <td>White</td>\n      <td>Male</td>\n      <td>40</td>\n      <td>United-States</td>\n      <td>&lt;=50K</td>\n      <td>32</td>\n      <td>0</td>\n      <td>0</td>\n    </tr>\n    <tr>\n      <th>3</th>\n      <td>4/6/2009</td>\n      <td>25503</td>\n      <td>Private</td>\n      <td>11th</td>\n      <td>7</td>\n      <td>Married-civ-spouse</td>\n      <td>Handlers-cleaners</td>\n      <td>Husband</td>\n      <td>Black</td>\n      <td>Male</td>\n      <td>40</td>\n      <td>United-States</td>\n      <td>&lt;=50K</td>\n      <td>14</td>\n      <td>0</td>\n      <td>0</td>\n    </tr>\n    <tr>\n      <th>4</th>\n      <td>9/16/1951</td>\n      <td>75387</td>\n      <td>Private</td>\n      <td>Bachelors</td>\n      <td>13</td>\n      <td>Married-civ-spouse</td>\n      <td>Prof-specialty</td>\n      <td>Wife</td>\n      <td>Black</td>\n      <td>Female</td>\n      <td>40</td>\n      <td>Cuba</td>\n      <td>&lt;=50K</td>\n      <td>72</td>\n      <td>0</td>\n      <td>0</td>\n    </tr>\n  </tbody>\n</table>\n</div>"
     },
     "execution_count": 13,
     "metadata": {},
     "output_type": "execute_result"
    }
   ],
   "source": [
    "sensitivity = 1\n",
    "epsilon = 0.1\n",
    "\n",
    "adult = adult_data\n",
    "adult.head()"
   ],
   "metadata": {
    "collapsed": false,
    "ExecuteTime": {
     "end_time": "2024-04-11T09:35:09.027591Z",
     "start_time": "2024-04-11T09:35:08.992254Z"
    }
   },
   "id": "8cdd6b8211964a33",
   "execution_count": 13
  },
  {
   "cell_type": "code",
   "outputs": [
    {
     "data": {
      "text/plain": "17448.524171518984"
     },
     "execution_count": 14,
     "metadata": {},
     "output_type": "execute_result"
    }
   ],
   "source": [
    "adult[adult['Age'] >= 40].shape[0] + np.random.laplace(loc=0, scale=sensitivity/epsilon)"
   ],
   "metadata": {
    "collapsed": false,
    "ExecuteTime": {
     "end_time": "2024-04-11T09:35:09.058005Z",
     "start_time": "2024-04-11T09:35:09.036045Z"
    }
   },
   "id": "6c230f8bb6771c9c",
   "execution_count": 14
  },
  {
   "cell_type": "markdown",
   "source": [
    "# 差分隐私的性质\n",
    "## 串行组合性"
   ],
   "metadata": {
    "collapsed": false
   },
   "id": "429446d6036f659"
  },
  {
   "cell_type": "code",
   "outputs": [],
   "source": [
    "import matplotlib.pyplot as plt\n",
    "epsilon1 = 1\n",
    "epsilon2 = 1\n",
    "epsilon_total = 2\n",
    "\n",
    "# 满足1-差分隐私\n",
    "def F1():\n",
    "    return np.random.laplace(loc=0, scale=1/epsilon1)\n",
    "\n",
    "# 满足1-差分隐私\n",
    "def F2():\n",
    "    return np.random.laplace(loc=0, scale=1/epsilon2)\n",
    "\n",
    "# 满足2-差分隐私\n",
    "def F3():\n",
    "    return np.random.laplace(loc=0, scale=1/epsilon_total)\n",
    "\n",
    "# 根据串行组合性，满足2-差分隐私\n",
    "def F_combined():\n",
    "    return (F1() + F2()) / 2"
   ],
   "metadata": {
    "collapsed": false,
    "ExecuteTime": {
     "end_time": "2024-04-11T09:35:09.158046Z",
     "start_time": "2024-04-11T09:35:09.069283Z"
    }
   },
   "id": "5fe089b32c9ea35c",
   "execution_count": 15
  },
  {
   "cell_type": "markdown",
   "source": [
    "输出结果分布越尖锐（即更集中在某个取值附近），意味着数据的隐私保护程度越低，因为攻击者可以更准确地推断出原始数据的可能取值。"
   ],
   "metadata": {
    "collapsed": false
   },
   "id": "33c14ba7a7e9a078"
  },
  {
   "cell_type": "code",
   "outputs": [
    {
     "data": {
      "text/plain": "<Figure size 640x480 with 1 Axes>",
      "image/png": "[encoded data removed]"
     },
     "metadata": {},
     "output_type": "display_data"
    }
   ],
   "source": [
    "# 绘制F1\n",
    "plt.hist([F1() for _ in range(1000)], bins=50, label='F1')\n",
    "\n",
    "# 绘制F2（看起来应该与F1相同）\n",
    "plt.hist([F2() for _ in range(1000)], bins=50, alpha=.7, label='F2')\n",
    "plt.legend();"
   ],
   "metadata": {
    "collapsed": false,
    "ExecuteTime": {
     "end_time": "2024-04-11T09:35:10.398158Z",
     "start_time": "2024-04-11T09:35:09.169167Z"
    }
   },
   "id": "9a7a5ac7c490a30c",
   "execution_count": 16
  },
  {
   "cell_type": "markdown",
   "source": [
    "我们绘制出F1和F3的输出概率分布图。可以看出，F3的输出概率分布看起来比F1的更”尖”，这是因为\n",
    "取值越大意味着隐私保护程度越低，因此输出结果远离真实结果的可能性也就越小。"
   ],
   "metadata": {
    "collapsed": false
   },
   "id": "c38b5b1f1e9f7b85"
  },
  {
   "cell_type": "code",
   "outputs": [
    {
     "data": {
      "text/plain": "<Figure size 640x480 with 1 Axes>",
      "image/png": "[encoded data removed]"
     },
     "metadata": {},
     "output_type": "display_data"
    }
   ],
   "source": [
    "# 绘制F1\n",
    "plt.hist([F1() for _ in range(1000)], bins=50, label='F1')\n",
    "\n",
    "# 绘制F3（看起来应该比F1更\"尖\"）\n",
    "plt.hist([F3() for _ in range(1000)], bins=50, alpha=.7, label='F3')\n",
    "plt.legend();"
   ],
   "metadata": {
    "collapsed": false,
    "ExecuteTime": {
     "end_time": "2024-04-11T09:35:11.269522Z",
     "start_time": "2024-04-11T09:35:10.402458Z"
    }
   },
   "id": "7dfac10f3917a50a",
   "execution_count": 17
  },
  {
   "cell_type": "code",
   "outputs": [
    {
     "data": {
      "text/plain": "<Figure size 640x480 with 1 Axes>",
      "image/png": "[encoded data removed]"
     },
     "metadata": {},
     "output_type": "display_data"
    }
   ],
   "source": [
    "# 绘制F1\n",
    "plt.hist([F1() for _ in range(1000)], bins=50, label='F1')\n",
    "\n",
    "# 绘制F_combined（看起来应该比F1更\"尖\"）\n",
    "plt.hist([F_combined() for _ in range(1000)], bins=50, alpha=.7, label='F_combined')\n",
    "plt.legend();"
   ],
   "metadata": {
    "collapsed": false,
    "ExecuteTime": {
     "end_time": "2024-04-11T09:35:11.646843Z",
     "start_time": "2024-04-11T09:35:11.276883Z"
    }
   },
   "id": "e8f585934b67d28e",
   "execution_count": 18
  },
  {
   "cell_type": "code",
   "outputs": [
    {
     "data": {
      "text/plain": "<Figure size 640x480 with 1 Axes>",
      "image/png": "[encoded data removed]"
     },
     "metadata": {},
     "output_type": "display_data"
    }
   ],
   "source": [
    "# 绘制F3\n",
    "plt.hist([F3() for _ in range(1000)], bins=50, label='F3')\n",
    "\n",
    "# 绘制F_combined（看起来应该与F3相同）\n",
    "plt.hist([F_combined() for _ in range(1000)], bins=50, alpha=.7, label='F_combined')\n",
    "plt.legend();"
   ],
   "metadata": {
    "collapsed": false,
    "ExecuteTime": {
     "end_time": "2024-04-11T09:35:12.002113Z",
     "start_time": "2024-04-11T09:35:11.648921Z"
    }
   },
   "id": "5a72fa3089ae1b77",
   "execution_count": 19
  },
  {
   "cell_type": "markdown",
   "source": [
    "串行组合性给出了多次发布后总ε的上界，实际发布的累积隐私消耗量可能会更低一些，所以F3尖一些，而F_combined平一些\n",
    "当控制总隐私消耗量时，串行组合性是一个极为有用的方法"
   ],
   "metadata": {
    "collapsed": false
   },
   "id": "7a6a80f9c191d643"
  },
  {
   "cell_type": "markdown",
   "source": [
    "## 并行组合性\n",
    "把数据集划分为k个子数据块，并在k个子数据块上分别应用相同的差分隐私机制（这意味着我们在数据集上应用了k次差分隐私机制），我们再每个个体数据上仅使用了一次差分隐私机制"
   ],
   "metadata": {
    "collapsed": false
   },
   "id": "161adf5a772b143a"
  },
  {
   "cell_type": "markdown",
   "source": [
    "### 直方图"
   ],
   "metadata": {
    "collapsed": false
   },
   "id": "c5881295d8ca67af"
  },
  {
   "cell_type": "code",
   "outputs": [
    {
     "data": {
      "text/plain": "              count\nEducation          \nHS-grad       10501\nSome-college   7291\nBachelors      5355\nMasters        1723\nAssoc-voc      1383",
      "text/html": "<div>\n<style scoped>\n    .dataframe tbody tr th:only-of-type {\n        vertical-align: middle;\n    }\n\n    .dataframe tbody tr th {\n        vertical-align: top;\n    }\n\n    .dataframe thead th {\n        text-align: right;\n    }\n</style>\n<table border=\"1\" class=\"dataframe\">\n  <thead>\n    <tr style=\"text-align: right;\">\n      <th></th>\n      <th>count</th>\n    </tr>\n    <tr>\n      <th>Education</th>\n      <th></th>\n    </tr>\n  </thead>\n  <tbody>\n    <tr>\n      <th>HS-grad</th>\n      <td>10501</td>\n    </tr>\n    <tr>\n      <th>Some-college</th>\n      <td>7291</td>\n    </tr>\n    <tr>\n      <th>Bachelors</th>\n      <td>5355</td>\n    </tr>\n    <tr>\n      <th>Masters</th>\n      <td>1723</td>\n    </tr>\n    <tr>\n      <th>Assoc-voc</th>\n      <td>1383</td>\n    </tr>\n  </tbody>\n</table>\n</div>"
     },
     "execution_count": 20,
     "metadata": {},
     "output_type": "execute_result"
    }
   ],
   "source": [
    "adult = pd.read_csv(\"adult_with_pii.csv\")\n",
    "adult['Education'].value_counts().to_frame().head(5)"
   ],
   "metadata": {
    "collapsed": false,
    "ExecuteTime": {
     "end_time": "2024-04-11T09:35:12.185211Z",
     "start_time": "2024-04-11T09:35:12.003174Z"
    }
   },
   "id": "3fcd8a39bb72decd",
   "execution_count": 20
  },
  {
   "cell_type": "code",
   "outputs": [
    {
     "data": {
      "text/plain": "                     count\nEducation                 \nHS-grad       10500.171101\nSome-college   7290.224007\nBachelors      5354.904618\nMasters        1723.866458\nAssoc-voc      1381.338365",
      "text/html": "<div>\n<style scoped>\n    .dataframe tbody tr th:only-of-type {\n        vertical-align: middle;\n    }\n\n    .dataframe tbody tr th {\n        vertical-align: top;\n    }\n\n    .dataframe thead th {\n        text-align: right;\n    }\n</style>\n<table border=\"1\" class=\"dataframe\">\n  <thead>\n    <tr style=\"text-align: right;\">\n      <th></th>\n      <th>count</th>\n    </tr>\n    <tr>\n      <th>Education</th>\n      <th></th>\n    </tr>\n  </thead>\n  <tbody>\n    <tr>\n      <th>HS-grad</th>\n      <td>10500.171101</td>\n    </tr>\n    <tr>\n      <th>Some-college</th>\n      <td>7290.224007</td>\n    </tr>\n    <tr>\n      <th>Bachelors</th>\n      <td>5354.904618</td>\n    </tr>\n    <tr>\n      <th>Masters</th>\n      <td>1723.866458</td>\n    </tr>\n    <tr>\n      <th>Assoc-voc</th>\n      <td>1381.338365</td>\n    </tr>\n  </tbody>\n</table>\n</div>"
     },
     "execution_count": 21,
     "metadata": {},
     "output_type": "execute_result"
    }
   ],
   "source": [
    "epsilon = 1\n",
    "\n",
    "# 虽然我们发布了多个结果，但此次数据分析的总隐私消耗量为ε = 1\n",
    "f = lambda x: x + np.random.laplace(loc=0, scale=1/epsilon)\n",
    "s = adult['Education'].value_counts().apply(f)\n",
    "s.to_frame().head(5)"
   ],
   "metadata": {
    "collapsed": false,
    "ExecuteTime": {
     "end_time": "2024-04-11T09:35:12.212797Z",
     "start_time": "2024-04-11T09:35:12.189206Z"
    }
   },
   "id": "dd64655af339d4",
   "execution_count": 21
  },
  {
   "cell_type": "markdown",
   "source": [
    "### 列联表"
   ],
   "metadata": {
    "collapsed": false
   },
   "id": "8e8593e1df9e14b7"
  },
  {
   "cell_type": "code",
   "outputs": [
    {
     "data": {
      "text/plain": "Sex        Female  Male\nEducation              \n10th          295   638\n11th          432   743\n12th          144   289\n1st-4th        46   122\n5th-6th        84   249",
      "text/html": "<div>\n<style scoped>\n    .dataframe tbody tr th:only-of-type {\n        vertical-align: middle;\n    }\n\n    .dataframe tbody tr th {\n        vertical-align: top;\n    }\n\n    .dataframe thead th {\n        text-align: right;\n    }\n</style>\n<table border=\"1\" class=\"dataframe\">\n  <thead>\n    <tr style=\"text-align: right;\">\n      <th>Sex</th>\n      <th>Female</th>\n      <th>Male</th>\n    </tr>\n    <tr>\n      <th>Education</th>\n      <th></th>\n      <th></th>\n    </tr>\n  </thead>\n  <tbody>\n    <tr>\n      <th>10th</th>\n      <td>295</td>\n      <td>638</td>\n    </tr>\n    <tr>\n      <th>11th</th>\n      <td>432</td>\n      <td>743</td>\n    </tr>\n    <tr>\n      <th>12th</th>\n      <td>144</td>\n      <td>289</td>\n    </tr>\n    <tr>\n      <th>1st-4th</th>\n      <td>46</td>\n      <td>122</td>\n    </tr>\n    <tr>\n      <th>5th-6th</th>\n      <td>84</td>\n      <td>249</td>\n    </tr>\n  </tbody>\n</table>\n</div>"
     },
     "execution_count": 22,
     "metadata": {},
     "output_type": "execute_result"
    }
   ],
   "source": [
    "pd.crosstab(adult['Education'], adult['Sex']).head(5)"
   ],
   "metadata": {
    "collapsed": false,
    "ExecuteTime": {
     "end_time": "2024-04-11T09:35:12.268999Z",
     "start_time": "2024-04-11T09:35:12.217006Z"
    }
   },
   "id": "91d123918580e3f5",
   "execution_count": 22
  },
  {
   "cell_type": "code",
   "outputs": [
    {
     "name": "stderr",
     "output_type": "stream",
     "text": [
      "C:\\Users\\administrat\\AppData\\Local\\Temp\\ipykernel_11740\\3751694223.py:3: FutureWarning: DataFrame.applymap has been deprecated. Use DataFrame.map instead.\n",
      "  ct.applymap(f).head(5)\n"
     ]
    },
    {
     "data": {
      "text/plain": "Sex            Female        Male\nEducation                        \n10th       297.284807  638.468170\n11th       432.429835  743.172088\n12th       143.374152  290.430303\n1st-4th     46.053111  121.145131\n5th-6th     84.115560  249.267380",
      "text/html": "<div>\n<style scoped>\n    .dataframe tbody tr th:only-of-type {\n        vertical-align: middle;\n    }\n\n    .dataframe tbody tr th {\n        vertical-align: top;\n    }\n\n    .dataframe thead th {\n        text-align: right;\n    }\n</style>\n<table border=\"1\" class=\"dataframe\">\n  <thead>\n    <tr style=\"text-align: right;\">\n      <th>Sex</th>\n      <th>Female</th>\n      <th>Male</th>\n    </tr>\n    <tr>\n      <th>Education</th>\n      <th></th>\n      <th></th>\n    </tr>\n  </thead>\n  <tbody>\n    <tr>\n      <th>10th</th>\n      <td>297.284807</td>\n      <td>638.468170</td>\n    </tr>\n    <tr>\n      <th>11th</th>\n      <td>432.429835</td>\n      <td>743.172088</td>\n    </tr>\n    <tr>\n      <th>12th</th>\n      <td>143.374152</td>\n      <td>290.430303</td>\n    </tr>\n    <tr>\n      <th>1st-4th</th>\n      <td>46.053111</td>\n      <td>121.145131</td>\n    </tr>\n    <tr>\n      <th>5th-6th</th>\n      <td>84.115560</td>\n      <td>249.267380</td>\n    </tr>\n  </tbody>\n</table>\n</div>"
     },
     "execution_count": 23,
     "metadata": {},
     "output_type": "execute_result"
    }
   ],
   "source": [
    "ct = pd.crosstab(adult['Education'], adult['Sex'])\n",
    "f = lambda x: x + np.random.laplace(loc=0, scale=1/epsilon)\n",
    "ct.applymap(f).head(5)"
   ],
   "metadata": {
    "collapsed": false,
    "ExecuteTime": {
     "end_time": "2024-04-11T09:35:12.313169Z",
     "start_time": "2024-04-11T09:35:12.272369Z"
    }
   },
   "id": "2de7efd8e57fbd49",
   "execution_count": 23
  },
  {
   "cell_type": "markdown",
   "source": [
    "## 后处理性"
   ],
   "metadata": {
    "collapsed": false
   },
   "id": "d8b6ee52a01c30ea"
  },
  {
   "cell_type": "markdown",
   "source": [
    "差分隐私的后处理性保证了在已经对数据进行差分隐私保护的前提下，可以进行额外的操作，如数据分析、查询或计算等，而不会破坏差分隐私的保护效果。\n",
    "当使用差分隐私机制对数据进行处理后，确保在处理后的数据上进行的任何后续操作不会进一步泄露个体隐私信息是非常重要的"
   ],
   "metadata": {
    "collapsed": false
   },
   "id": "ca2e6fa5ff0439b7"
  },
  {
   "cell_type": "code",
   "outputs": [
    {
     "name": "stdout",
     "output_type": "stream",
     "text": [
      "原始数据： [1 2 3 4 5]\n",
      "添加噪声后的数据： [ 5.11621364  2.58918895  4.431855   -1.14427153  5.50341697]\n",
      "计算的平均值（后处理）： 3.2992806034222824\n"
     ]
    }
   ],
   "source": [
    "# 差分隐私机制示例：向每个数据点添加 Laplace 噪声\n",
    "def add_noise(data, epsilon):\n",
    "    # 计算每个数据点添加的噪声大小\n",
    "    scale = 1.0 / epsilon\n",
    "    \n",
    "    # 添加 Laplace 噪声\n",
    "    noisy_data = data + np.random.laplace(loc=0.0, scale=scale, size=data.shape)\n",
    "    \n",
    "    return noisy_data\n",
    "\n",
    "# 示例数据集\n",
    "data = np.array([1, 2, 3, 4, 5])\n",
    "\n",
    "# 差分隐私参数\n",
    "epsilon = 0.5\n",
    "\n",
    "# 对数据应用差分隐私机制\n",
    "noisy_data = add_noise(data, epsilon)\n",
    "\n",
    "# 后处理操作示例：计算平均值\n",
    "def compute_mean(data):\n",
    "    return np.mean(data)\n",
    "\n",
    "# 对添加了噪声的数据进行后处理操作\n",
    "mean = compute_mean(noisy_data)\n",
    "\n",
    "# 输出结果\n",
    "print(\"原始数据：\", data)\n",
    "print(\"添加噪声后的数据：\", noisy_data)\n",
    "print(\"计算的平均值（后处理）：\", mean)"
   ],
   "metadata": {
    "collapsed": false,
    "ExecuteTime": {
     "end_time": "2024-04-11T09:35:12.335524Z",
     "start_time": "2024-04-11T09:35:12.317381Z"
    }
   },
   "id": "e34bb5d9d22f9d77",
   "execution_count": 24
  }
 ],
 "metadata": {
  "kernelspec": {
   "display_name": "Python 3",
   "language": "python",
   "name": "python3"
  },
  "language_info": {
   "codemirror_mode": {
    "name": "ipython",
    "version": 2
   },
   "file_extension": ".py",
   "mimetype": "text/x-python",
   "name": "python",
   "nbconvert_exporter": "python",
   "pygments_lexer": "ipython2",
   "version": "2.7.6"
  }
 },
 "nbformat": 4,
 "nbformat_minor": 5
}
